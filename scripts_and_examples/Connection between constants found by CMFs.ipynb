{
 "cells": [
  {
   "cell_type": "code",
   "execution_count": 1,
   "id": "36619767",
   "metadata": {},
   "outputs": [],
   "source": [
    "from ramanujan.cmf import known_cmfs\n",
    "from ramanujan.cmf import CMF\n",
    "from ramanujan import Matrix\n",
    "\n",
    "import mpmath\n",
    "import sympy\n",
    "from fractions import Fraction\n",
    "from sympy.abc import x, y\n",
    "\n",
    "from IPython.display import display, Math\n",
    "\n",
    "# Use high percission\n",
    "mpmath.mp.dps = 20_000\n",
    "\n",
    "def pslq(limit, constant, constant_latex):\n",
    "    coefs = mpmath.pslq([1, constant, -limit, -limit*constant], tol=1e-30)\n",
    "    # create the latex that represents the limit\n",
    "    c0 = '' if coefs[0] == 0 else str(coefs[0])\n",
    "    c2 = '' if coefs[2] == 0 else str(coefs[2])\n",
    "    \n",
    "    if coefs[1] == 0:\n",
    "        c1 = ''\n",
    "    elif coefs[1] > 0:\n",
    "        c1 = f'{coefs[1]}{constant_latex}'\n",
    "        c1 = f'+ {c1}' if coefs[0] != 0 else c1\n",
    "    else:\n",
    "        c1 = f'{coefs[1]}{constant_latex}'\n",
    "        \n",
    "    if coefs[3] == 0:\n",
    "        c3 = ''\n",
    "    elif coefs[3] > 0:\n",
    "        c3 = f'{coefs[3]}{constant_latex}'\n",
    "        c3 = f'+ {c1}' if coefs[2] != 0 else c3\n",
    "    else:\n",
    "        c3 = f'{coefs[3]}{constant_latex}'\n",
    "        \n",
    "    \n",
    "    expr_latex = f'\\\\frac{{ {c0} {c1} }}{{ {c2} {c3} }}'\n",
    "    return coefs, expr_latex"
   ]
  },
  {
   "cell_type": "markdown",
   "id": "afa32925",
   "metadata": {},
   "source": [
    "# Connection between constants found by CMFs\n",
    "\n",
    "Conservative matrix fields generate infinitely many formulas for fundamental mathematical constants. In most cases, these formulas correspond to a single constant. Sometimes, very simple and intuitive changes can be applied to the CMF, such as altering the initial configuration, leading to new formulas that converge to a different constant.\n",
    "\n",
    "Both constants can be expressed with _nearly identical_ conservative matrix fields, which means that _nearly identical_ formulas lead to different constants. This observation implies that the constants are connected in some manner.\n",
    "\n",
    "In this document we will explore such connections by applying various manipulations to the CMFs we have discovered."
   ]
  },
  {
   "cell_type": "markdown",
   "id": "243dbb30",
   "metadata": {},
   "source": [
    "## Rational indents\n",
    "The _initial location_ of a trajectory on a conservative matrix field, can be manipulated by mutliplying by the matrices that correspond to the path that connects the original initial location, and the desired one. \n",
    "For example the trajectory the progresses on the $x=y$ diagonal is usually initialied on $(1,1)$\n",
    "\n",
    "$$ V_{\\mathrm{traj-limit}} = M_x(1,1) M_y(2,1) M_x(2,2) M_y(3,2) \\dots M_x(n,n) M_y(n+1,n) \\dots \\to L $$ \n",
    "Where $L$ is the limit of the trajectory, defined as $V_{0,1}/V_{1,1}$.\n",
    "\n",
    "The same limit, up to a Mobius transform, can be attained by using a different _integer_ initial location. For example, starting from $(3,1)$:\n",
    "$$ M_x^{-1}(3,1) M_x^{-1}(2,1) V_{\\mathrm{traj-limit}} \\to M_x^{-1}(3,1) M_x^{-1}(2,1) L $$ \n",
    "\n",
    "However, If we choose a _rational_ initial location, we cannot express the path that connects both trajectories using a Mobius transform, which raises the question - will the new limit still be an expression of the old constant? Surprisingly, the answer is no."
   ]
  },
  {
   "cell_type": "code",
   "execution_count": 2,
   "id": "46480b5c",
   "metadata": {},
   "outputs": [],
   "source": [
    "def compare_limits_after_indent(cmf, indent, origianl_const, original_const_latex,\n",
    "                                indent_const, indent_const_latex, n_iterations=1000):\n",
    "    # We check the limit on the x=y diagonal. \n",
    "    # Usually, it provides the fastest convergence.\n",
    "    original_limit = cmf.limit(\n",
    "        trajectory={x:1, y:1},\n",
    "        iterations=n_iterations,\n",
    "        start={x:1, y:1})\n",
    "\n",
    "    # The new matrix field is initiated at a location that differes by a rational value\n",
    "    indented_limit = cmf.limit(\n",
    "        trajectory={x:1, y:1},\n",
    "        iterations=n_iterations,\n",
    "        start={x:1 + indent[0], y:1+indent[1]})\n",
    "    \n",
    "    # We use PSLQ to identify a closed form of the limit constants\n",
    "    print('Starting at x=y=1:')\n",
    "    _, expr_latex = pslq(original_limit, origianl_const, original_const_latex)\n",
    "    display(Math(f'Limit={mpmath.nstr(original_limit,20)} = {expr_latex}'))\n",
    "\n",
    "    print(f'Starting at x=1+{indent[0]}, y=1+{indent[1]}:')\n",
    "    _, expr_latex = pslq(indented_limit, indent_const, indent_const_latex)\n",
    "    display(Math(f'Limit={mpmath.nstr(indented_limit,20)} = {expr_latex}'))"
   ]
  },
  {
   "cell_type": "markdown",
   "id": "635bf659",
   "metadata": {},
   "source": [
    "## Connection between $\\pi$ and $\\sqrt{2}$"
   ]
  },
  {
   "cell_type": "code",
   "execution_count": null,
   "id": "5fc8fba9",
   "metadata": {},
   "outputs": [],
   "source": [
    "pi_cmf = known_cmfs.pi()\n",
    "compare_limits_after_indent(\n",
    "    cmf=pi_cmf,\n",
    "    indent=(Fraction(0,2), Fraction(1,2)),\n",
    "    origianl_const=mpmath.pi, \n",
    "    original_const_latex='\\\\pi',\n",
    "    indent_const=mpmath.sqrt(2), \n",
    "    indent_const_latex='\\\\sqrt{2}')"
   ]
  },
  {
   "cell_type": "markdown",
   "id": "d78d4c93",
   "metadata": {},
   "source": [
    "## Connection between Catalan's constant $G$ and $\\zeta(2)$"
   ]
  },
  {
   "cell_type": "code",
   "execution_count": null,
   "id": "a44c8092",
   "metadata": {
    "scrolled": true
   },
   "outputs": [],
   "source": [
    "zeta2_cmf = known_cmfs.zeta2()\n",
    "compare_limits_after_indent(\n",
    "    cmf=zeta2_cmf,\n",
    "    indent=(0,Fraction(1,2)),\n",
    "    origianl_const=mpmath.zeta(2), \n",
    "    original_const_latex='\\\\zeta(2)',\n",
    "    indent_const=mpmath.catalan, \n",
    "    indent_const_latex='G')"
   ]
  },
  {
   "cell_type": "markdown",
   "id": "bd1787fb",
   "metadata": {},
   "source": [
    "## Connection between $\\frac{\\pi^3}{\\sqrt{3}}$ and $\\zeta(3)$"
   ]
  },
  {
   "cell_type": "code",
   "execution_count": null,
   "id": "3eadef63",
   "metadata": {},
   "outputs": [],
   "source": [
    "zeta3_cmf = known_cmfs.zeta3()\n",
    "# This value is infact polygamma(2, 4/3)\n",
    "zeta3_pi_cube_mix = 54 - (4*mpmath.pi**3)/(3*mpmath.sqrt(3)) - 26*mpmath.zeta(3)\n",
    "compare_limits_after_indent(\n",
    "    cmf=zeta3_cmf,\n",
    "    indent=(0,Fraction(1,3)),\n",
    "    origianl_const=mpmath.zeta(3), \n",
    "    original_const_latex='\\\\zeta(3)',\n",
    "    indent_const=zeta3_pi_cube_mix, \n",
    "    indent_const_latex='\\\\left(54-(4\\\\pi^3)/(3\\\\sqrt{3})-26\\\\zeta(3)\\\\right)')"
   ]
  },
  {
   "cell_type": "markdown",
   "id": "32ddba43",
   "metadata": {},
   "source": [
    "## Connecting different constants by passing $|M_{x/y}|=0$\n",
    "\n",
    "As seen above, to connect different trajectories by using the inverse of $M_x$ or $M_y$. In cases where determinant is zero, we once again cannont connect different trajectories, since we cannot invert $M_x$ or $M_y$. This gives a new motivation for looking for different constants in different areas of the conservative matrix field, based on the determinant of the matrices."
   ]
  },
  {
   "cell_type": "code",
   "execution_count": null,
   "id": "6736fa95",
   "metadata": {},
   "outputs": [],
   "source": [
    "e_cmf = known_cmfs.e()\n",
    "display(Math(f'\\\\mathrm{{det}}(M_x) = {e_cmf.Mx.det()}'))\n",
    "display(Math(f'\\\\mathrm{{det}}(M_y) = {e_cmf.My.det()}'))"
   ]
  },
  {
   "cell_type": "code",
   "execution_count": null,
   "id": "d5d4717f",
   "metadata": {},
   "outputs": [],
   "source": [
    "Mx_inv=Matrix([\n",
    "    [ e_cmf.Mx[1,1], -e_cmf.Mx[0,1]],\n",
    "    [-e_cmf.Mx[1,0],  e_cmf.Mx[0,0]]\n",
    "])\n",
    "My=e_cmf.My"
   ]
  },
  {
   "cell_type": "code",
   "execution_count": null,
   "id": "b7a5e909",
   "metadata": {},
   "outputs": [],
   "source": [
    "pcf = sympy.eye(2)\n",
    "for i in range(1, 1000):\n",
    "    # We want to go in the y=-x direction on the second quandrant.\n",
    "    # The matrix that takes us a step back in the x direction, e.g. from (x_0, y_0) to (x_0-1, y_0), is the \n",
    "    # inverse of M_x(x_0-1, y_0)\n",
    "    \n",
    "    # step backwards in x, starting from (-i, i). After this operation, we are at (-i-1, i).\n",
    "    pcf = pcf @ Mx_inv.subs({x:-i-1, y:i})\n",
    "    # step upwards in y. This axis was not changed.\n",
    "    pcf = pcf @ My.subs({x:-i-1, y:i})\n",
    "\n",
    "quad_2_limit = mpmath.mpf(pcf[0,1]/pcf[1,1])"
   ]
  },
  {
   "cell_type": "code",
   "execution_count": null,
   "id": "590712ac",
   "metadata": {},
   "outputs": [],
   "source": [
    "gompertz_const = mpmath.mpf('0.59634736232319407434107849936927937607417786015254878157348491048232721911487441747043049709361276034423703474842862368981207829952905719661736922266589402431851351436829376329625477118797402524323020521178857378561772836523651378559486742535621813008120833')\n",
    "_, gom_latex  = pslq(quad_2_limit, gompertz_const, '\\\\delta')\n",
    "\n",
    "print('The limit on x=-y in the second quadrant is:')\n",
    "display(Math(f'L = {mpmath.nstr(quad_2_limit, 20)} = {gom_latex}'))\n",
    "\n",
    "print('Where 𝛿 is the Euler-Gompertz constant')"
   ]
  },
  {
   "cell_type": "markdown",
   "id": "fe94a304",
   "metadata": {},
   "source": [
    "## Connection between constants by re-scaling the axes\n",
    "\n",
    "Another simple modification we can apply to the conservative matrix field is a re-scaling of the axes, either by $x\\to x/2$ or $y\\to y+1/2$. This action preserves most of the properties of the original recurrence formula represented by a trajectory, creating a new, and very similar recurrence formula, that cannot be attained by simple Mobius transforms on a known trajectory."
   ]
  },
  {
   "cell_type": "markdown",
   "id": "5913d5ac",
   "metadata": {},
   "source": [
    "## Connection between $\\pi$ and $\\ln(2)$"
   ]
  },
  {
   "cell_type": "code",
   "execution_count": null,
   "id": "0c36e8b5",
   "metadata": {},
   "outputs": [],
   "source": [
    "Mx_rescaled = pi_cmf.Mx.subs({x:x/2, y:1})\n",
    "\n",
    "pcf = sympy.eye(2)\n",
    "for i in range(1, 1000):\n",
    "    pcf = pcf @ Mx_rescaled.subs({x:i})\n",
    "limit = mpmath.mpf(pcf[0,1]/pcf[1,1])\n",
    "\n",
    "_, expr_latex = pslq(limit, mpmath.ln(2), '\\\\ln(2)')\n",
    "display(Math(f'L_{{x \\\\to x/2}} = {mpmath.nstr(limit, 20)} = {expr_latex}'))"
   ]
  }
 ],
 "metadata": {
  "kernelspec": {
   "display_name": "Python 3 (ipykernel)",
   "language": "python",
   "name": "python3"
  },
  "language_info": {
   "codemirror_mode": {
    "name": "ipython",
    "version": 3
   },
   "file_extension": ".py",
   "mimetype": "text/x-python",
   "name": "python",
   "nbconvert_exporter": "python",
   "pygments_lexer": "ipython3",
   "version": "3.9.2"
  }
 },
 "nbformat": 4,
 "nbformat_minor": 5
}
